{
 "cells": [
  {
   "cell_type": "markdown",
   "metadata": {},
   "source": [
    "### Quiz 1\n",
    "- 두 정수 a, b가 주어졌을 때 a와 b 사이에 속한 모든 정수의 합을 리턴하는 함수, solution을 완성하세요.\n",
    "- 예를 들어 a = 3, b = 5인 경우, 3 + 4 + 5 = 12이므로 12를 리턴합니다.\n",
    "    - a와 b가 같은 경우는 둘 중 아무 수나 리턴하세요.\n",
    "    - a와 b는 -10,000,000 이상 10,000,000 이하인 정수입니다.\n",
    "    - a와 b의 대소관계는 정해져있지 않습니다."
   ]
  },
  {
   "cell_type": "code",
   "execution_count": 2,
   "metadata": {},
   "outputs": [
    {
     "name": "stdout",
     "output_type": "stream",
     "text": [
      "12\n"
     ]
    }
   ],
   "source": [
    "# 방법1\n",
    "def solution(a, b):\n",
    "    answer = 0\n",
    "    if a >= b:\n",
    "        for data in range(b, a+1):\n",
    "            answer += data\n",
    "        return (answer)\n",
    "    else:\n",
    "        for data in range(a, b+1):\n",
    "            answer += data\n",
    "        return (answer)\n",
    "    return answer\n",
    "\n",
    "print(solution(3,5))"
   ]
  },
  {
   "cell_type": "code",
   "execution_count": 1,
   "metadata": {},
   "outputs": [
    {
     "name": "stdout",
     "output_type": "stream",
     "text": [
      "12\n"
     ]
    }
   ],
   "source": [
    "# 방법2\n",
    "def solution(a, b):\n",
    "    if a > b : a, b = b, a\n",
    "    return sum(range(a, b+1))\n",
    "print(solution(3,5))"
   ]
  },
  {
   "cell_type": "markdown",
   "metadata": {},
   "source": [
    "### Quiz2\n",
    "- 정수 n을 입력받아 n의 약수를 모두 더한 값을 리턴하는 함수, solution을 완성해주세요.\n",
    "- n은 0 이상 3000이하인 정수입니다.\n",
    "- 예) 12의 약수는 1, 2, 3, 4, 6, 12이고, 약수의 총합은 28입니다"
   ]
  },
  {
   "cell_type": "code",
   "execution_count": 5,
   "metadata": {},
   "outputs": [
    {
     "data": {
      "text/plain": [
       "42"
      ]
     },
     "execution_count": 5,
     "metadata": {},
     "output_type": "execute_result"
    }
   ],
   "source": [
    "# 방법 1\n",
    "def solution(n):\n",
    "    answer = 0\n",
    "    for x in range(1, n+1):\n",
    "        if n % x == 0:\n",
    "            answer += x\n",
    "        \n",
    "    return answer\n",
    "solution(20)"
   ]
  },
  {
   "cell_type": "code",
   "execution_count": 7,
   "metadata": {},
   "outputs": [
    {
     "data": {
      "text/plain": [
       "14"
      ]
     },
     "execution_count": 7,
     "metadata": {},
     "output_type": "execute_result"
    }
   ],
   "source": [
    "# 방법 2\n",
    "def sumDivisor(num):\n",
    "    return num + sum([i for i in range(1, (num // 2) + 1) if num % i == 0])\n",
    "sumDivisor(13)"
   ]
  }
 ],
 "metadata": {
  "kernelspec": {
   "display_name": "Python 3",
   "language": "python",
   "name": "python3"
  },
  "language_info": {
   "codemirror_mode": {
    "name": "ipython",
    "version": 3
   },
   "file_extension": ".py",
   "mimetype": "text/x-python",
   "name": "python",
   "nbconvert_exporter": "python",
   "pygments_lexer": "ipython3",
   "version": "3.7.4"
  }
 },
 "nbformat": 4,
 "nbformat_minor": 2
}
